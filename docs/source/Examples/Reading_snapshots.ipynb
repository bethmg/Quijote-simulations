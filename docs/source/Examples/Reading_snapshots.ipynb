{
 "cells": [
  {
   "cell_type": "markdown",
   "metadata": {},
   "source": [
    "# Reading snapshots\n",
    "\n",
    "[![Binder](https://mybinder.org/badge_logo.svg)](https://binder.flatironinstitute.org/v2/user/fvillaescusa/Quijote?filepath=/Tutorials/Reading_snapshots.ipynb)"
   ]
  },
  {
   "cell_type": "code",
   "execution_count": 1,
   "metadata": {},
   "outputs": [],
   "source": [
    "import numpy as np\n",
    "import readgadget"
   ]
  },
  {
   "cell_type": "markdown",
   "metadata": {},
   "source": [
    "get the name of the snapshot"
   ]
  },
  {
   "cell_type": "code",
   "execution_count": 2,
   "metadata": {},
   "outputs": [],
   "source": [
    "snapshot = '/home/jovyan/Data/Snapshots/Om_p/32/snapdir_004/snap_004'"
   ]
  },
  {
   "cell_type": "markdown",
   "metadata": {},
   "source": [
    "read the header of the snapshot"
   ]
  },
  {
   "cell_type": "code",
   "execution_count": 3,
   "metadata": {},
   "outputs": [
    {
     "name": "stdout",
     "output_type": "stream",
     "text": [
      "BoxSize = 1000.000 Mpc/h\n",
      "Total number of particles: [        0 134217728         0         0         0         0]\n",
      "Masses of the particles: [0.00000000e+00 6.77240019e+11 0.00000000e+00 0.00000000e+00\n",
      " 0.00000000e+00 0.00000000e+00] Msun/h\n",
      "Omega_m = 0.328\n",
      "Omega_L = 0.672\n",
      "h = 0.671\n",
      "redshift = 0.000\n",
      "H(z=0.0)=100.000 (km/s)/(Mpc/h)\n"
     ]
    }
   ],
   "source": [
    "# read header\n",
    "header   = readgadget.header(snapshot)\n",
    "BoxSize  = header.boxsize/1e3  #Mpc/h\n",
    "Nall     = header.nall         #Total number of particles\n",
    "Masses   = header.massarr*1e10 #Masses of the particles in Msun/h\n",
    "Omega_m  = header.omega_m      #value of Omega_m\n",
    "Omega_l  = header.omega_l      #value of Omega_l\n",
    "h        = header.hubble       #value of h\n",
    "redshift = header.redshift     #redshift of the snapshot\n",
    "Hubble   = 100.0*np.sqrt(Omega_m*(1.0+redshift)**3+Omega_l)#Value of H(z) in km/s/(Mpc/h)\n",
    "\n",
    "print('BoxSize = %.3f Mpc/h'%BoxSize)\n",
    "print('Total number of particles:',Nall)\n",
    "print('Masses of the particles:',Masses, 'Msun/h')\n",
    "print('Omega_m = %.3f'%Omega_m)\n",
    "print('Omega_L = %.3f'%Omega_l)\n",
    "print('h = %.3f'%h)\n",
    "print('redshift = %.3f'%redshift)\n",
    "print('H(z=%.1f)=%.3f (km/s)/(Mpc/h)'%(redshift,Hubble))"
   ]
  },
  {
   "cell_type": "markdown",
   "metadata": {},
   "source": [
    "For N-body simulations, we only care about particle type 1 (and type 2 if neutrinos are included)"
   ]
  },
  {
   "cell_type": "code",
   "execution_count": 4,
   "metadata": {},
   "outputs": [
    {
     "name": "stdout",
     "output_type": "stream",
     "text": [
      "Mass of a DM particle = 6.772e+11 Msun/h\n",
      "Number of DM particles = 134217728\n"
     ]
    }
   ],
   "source": [
    "mass_c = Masses[1]\n",
    "N_c = Nall[1]\n",
    "print('Mass of a DM particle = %.3e Msun/h'%mass_c)\n",
    "print('Number of DM particles = %d'%N_c)"
   ]
  },
  {
   "cell_type": "code",
   "execution_count": 5,
   "metadata": {},
   "outputs": [
    {
     "name": "stdout",
     "output_type": "stream",
     "text": [
      "0.3276 should be similar to\n",
      "0.3275\n"
     ]
    }
   ],
   "source": [
    "# we can check the value of Omega_m\n",
    "rho_crit = 2.775e11 #critical density at z=0 in (Msun/h)/(Mpc/h)^3\n",
    "estimated_Omega_m = N_c*mass_c/BoxSize**3/rho_crit\n",
    "print('%.4f should be similar to\\n%.4f'%(estimated_Omega_m,Omega_m))"
   ]
  },
  {
   "cell_type": "markdown",
   "metadata": {},
   "source": [
    "Now lets read the positions, velocities, and IDs of the DM particles"
   ]
  },
  {
   "cell_type": "code",
   "execution_count": 6,
   "metadata": {},
   "outputs": [],
   "source": [
    "ptype = [1] #DM is 1, neutrinos is [2]\n",
    "pos   = readgadget.read_block(snapshot, \"POS \", ptype)/1e3 #positions in Mpc/h\n",
    "vel   = readgadget.read_block(snapshot, \"VEL \", ptype)     #peculiar velocities in km/s\n",
    "ids   = readgadget.read_block(snapshot, \"ID  \", ptype)-1   #IDs starting from 0"
   ]
  },
  {
   "cell_type": "markdown",
   "metadata": {},
   "source": [
    "Lets print some information about these quantities"
   ]
  },
  {
   "cell_type": "code",
   "execution_count": 7,
   "metadata": {},
   "outputs": [
    {
     "name": "stdout",
     "output_type": "stream",
     "text": [
      "0.000 < X  < 999.992 Mpc/h\n",
      "0.000 < Y  < 999.992 Mpc/h\n",
      "0.000 < Z  < 999.992 Mpc/h\n",
      "-4777.000 < Vx < 5332.000 km/s\n",
      "-4387.000 < Vy < 4999.000 km/s\n",
      "-4977.000 < Vz < 4632.000 km/s\n",
      "0 < IDs < 134217727\n"
     ]
    }
   ],
   "source": [
    "print('%.3f < X  < %.3f Mpc/h'%(np.min(pos[:,0]), np.max(pos[:,0])))\n",
    "print('%.3f < Y  < %.3f Mpc/h'%(np.min(pos[:,1]), np.max(pos[:,1])))\n",
    "print('%.3f < Z  < %.3f Mpc/h'%(np.min(pos[:,2]), np.max(pos[:,2])))\n",
    "print('%.3f < Vx < %.3f km/s'%(np.min(vel[:,0]), np.max(vel[:,0])))\n",
    "print('%.3f < Vy < %.3f km/s'%(np.min(vel[:,1]), np.max(vel[:,1])))\n",
    "print('%.3f < Vz < %.3f km/s'%(np.min(vel[:,2]), np.max(vel[:,2])))\n",
    "print('%d < IDs < %d'%(np.min(ids), np.max(ids)))"
   ]
  },
  {
   "cell_type": "markdown",
   "metadata": {},
   "source": [
    "You can get the position, velocity, and ID of a particle just by calling its index"
   ]
  },
  {
   "cell_type": "code",
   "execution_count": 8,
   "metadata": {},
   "outputs": [
    {
     "name": "stdout",
     "output_type": "stream",
     "text": [
      "position = [  9.89725 996.024    15.1425 ] Mpc/h\n",
      "velocity = [ 356.25  -327.125 -153.   ] km/s\n",
      "ID = 10\n"
     ]
    }
   ],
   "source": [
    "# lets consider the particle number 10\n",
    "print('position =',pos[10],'Mpc/h')\n",
    "print('velocity =',vel[10],'km/s')\n",
    "print('ID =',ids[10])"
   ]
  },
  {
   "cell_type": "markdown",
   "metadata": {},
   "source": [
    "The particles IDs can be used to track particles across times. Lets take the particle with ID equal to 623 and find\n",
    "its position across redshifts"
   ]
  },
  {
   "cell_type": "code",
   "execution_count": 9,
   "metadata": {},
   "outputs": [
    {
     "name": "stdout",
     "output_type": "stream",
     "text": [
      "z=3.0 -----> (X,Y,Z)=(2.14, 16.49, 86.31) Mpc/h\n",
      "z=2.0 -----> (X,Y,Z)=(2.87, 16.15, 86.48) Mpc/h\n",
      "z=1.0 -----> (X,Y,Z)=(4.18, 15.80, 86.84) Mpc/h\n",
      "z=0.5 -----> (X,Y,Z)=(4.97, 15.25, 87.17) Mpc/h\n",
      "z=0.0 -----> (X,Y,Z)=(6.31, 14.28, 87.94) Mpc/h\n"
     ]
    }
   ],
   "source": [
    "part_ID = 620\n",
    "for snapnum in [0,1,2,3,4]:\n",
    "    snapshot = '/home/jovyan/Data/Snapshots/Om_p/32/snapdir_%03d/snap_%03d'%(snapnum,snapnum)\n",
    "    \n",
    "    # read header\n",
    "    header   = readgadget.header(snapshot)\n",
    "    redshift = header.redshift     #redshift of the snapshot\n",
    "    \n",
    "    # read positions and ids\n",
    "    pos = readgadget.read_block(snapshot, \"POS \", [1])/1e3 #positions in Mpc/h\n",
    "    ids = readgadget.read_block(snapshot, \"ID  \", [1])-1   #IDs starting from 0\n",
    "    \n",
    "    index = np.where(ids==part_ID)[0]\n",
    "    position = pos[index][0]\n",
    "    print('z=%.1f -----> (X,Y,Z)=(%.2f, %.2f, %.2f) Mpc/h'%(redshift,position[0],position[1],position[2]))"
   ]
  },
  {
   "cell_type": "markdown",
   "metadata": {},
   "source": [
    "Keep in mind the simulations have periodic boundary conditions. For instance, this is the incorrect and correct way\n",
    "to compute the distance between them"
   ]
  },
  {
   "cell_type": "code",
   "execution_count": 10,
   "metadata": {},
   "outputs": [
    {
     "name": "stdout",
     "output_type": "stream",
     "text": [
      "Position of particle 1: (4.534, 3.950, 998.616) Mpc/h\n",
      "Position of particle 2: (4.922, 4.519, 2.621) Mpc/h\n"
     ]
    }
   ],
   "source": [
    "particle1 = pos[3]\n",
    "particle2 = pos[4]\n",
    "print('Position of particle 1: (%.3f, %.3f, %.3f) Mpc/h'%(particle1[0], particle1[1], particle1[2]))\n",
    "print('Position of particle 2: (%.3f, %.3f, %.3f) Mpc/h'%(particle2[0], particle2[1], particle2[2]))"
   ]
  },
  {
   "cell_type": "code",
   "execution_count": 11,
   "metadata": {},
   "outputs": [
    {
     "name": "stdout",
     "output_type": "stream",
     "text": [
      "Incorrect distance = 995.995 Mpc/h\n",
      "Correct distance   = 4.064 Mpc/h\n"
     ]
    }
   ],
   "source": [
    "# this would be the incorrect way to compute the distance\n",
    "d = np.sqrt(np.sum((particle1-particle2)**2))\n",
    "print('Incorrect distance = %.3f Mpc/h'%d)\n",
    "\n",
    "# this would be the correct way to compute the distance\n",
    "d = particle1-particle2\n",
    "indexes = np.where(d>BoxSize/2)\n",
    "d[indexes]-=BoxSize\n",
    "indexes = np.where(d<-BoxSize/2)\n",
    "d[indexes]+=BoxSize\n",
    "d = np.sqrt(np.sum(d**2))\n",
    "print('Correct distance   = %.3f Mpc/h'%d)"
   ]
  },
  {
   "cell_type": "markdown",
   "metadata": {},
   "source": [
    "In simulations with massive neutrinos, you can read both dark matter and neutrino positions, velocities, and IDs"
   ]
  },
  {
   "cell_type": "code",
   "execution_count": 12,
   "metadata": {},
   "outputs": [
    {
     "name": "stdout",
     "output_type": "stream",
     "text": [
      "BoxSize = 1000.000 Mpc/h\n",
      "Total number of particles: [        0 134217728 134217728         0         0         0]\n",
      "Masses of the particles: [0.00000000e+00 6.51631041e+11 4.92989376e+09 0.00000000e+00\n",
      " 0.00000000e+00 0.00000000e+00] Msun/h\n",
      "Omega_m = 0.318\n",
      "Omega_L = 0.682\n",
      "h = 0.671\n",
      "redshift = 1.000\n",
      "H(z=1.0)=179.513 (km/s)/(Mpc/h)\n"
     ]
    }
   ],
   "source": [
    "# get the name of the snapshot\n",
    "snapshot = '/home/jovyan/Data/Snapshots/Mnu_p/284/snapdir_002/snap_002'\n",
    "\n",
    "# read header\n",
    "header   = readgadget.header(snapshot)\n",
    "BoxSize  = header.boxsize/1e3  #Mpc/h\n",
    "Nall     = header.nall         #Total number of particles\n",
    "Masses   = header.massarr*1e10 #Masses of the particles in Msun/h\n",
    "Omega_m  = header.omega_m      #value of Omega_m\n",
    "Omega_l  = header.omega_l      #value of Omega_l\n",
    "h        = header.hubble       #value of h\n",
    "redshift = header.redshift     #redshift of the snapshot\n",
    "Hubble   = 100.0*np.sqrt(Omega_m*(1.0+redshift)**3+Omega_l)#Value of H(z) in km/s/(Mpc/h)\n",
    "\n",
    "print('BoxSize = %.3f Mpc/h'%BoxSize)\n",
    "print('Total number of particles:',Nall)\n",
    "print('Masses of the particles:',Masses, 'Msun/h')\n",
    "print('Omega_m = %.3f'%Omega_m)\n",
    "print('Omega_L = %.3f'%Omega_l)\n",
    "print('h = %.3f'%h)\n",
    "print('redshift = %.3f'%redshift)\n",
    "print('H(z=%.1f)=%.3f (km/s)/(Mpc/h)'%(redshift,Hubble))"
   ]
  },
  {
   "cell_type": "markdown",
   "metadata": {},
   "source": [
    "As can be seeing, particle type 2 (neutrinos) have millions particles and the masses are not zero"
   ]
  },
  {
   "cell_type": "code",
   "execution_count": 13,
   "metadata": {},
   "outputs": [
    {
     "name": "stdout",
     "output_type": "stream",
     "text": [
      "Mass of a DM particle = 6.516e+11 Msun/h\n",
      "Mass of a NU particle = 4.930e+09 Msun/h\n",
      "Number of DM particles = 134217728\n",
      "Number of NU particles = 134217728\n",
      "Omega_cb = 0.315\n",
      "Omega_nu = 2.384e-03\n",
      "Omega_m  = 0.318\n"
     ]
    }
   ],
   "source": [
    "mass_c = Masses[1]\n",
    "mass_n = Masses[2]\n",
    "N_c = Nall[1]\n",
    "N_n = Nall[2]\n",
    "print('Mass of a DM particle = %.3e Msun/h'%mass_c)\n",
    "print('Mass of a NU particle = %.3e Msun/h'%mass_n)\n",
    "print('Number of DM particles = %d'%N_c)\n",
    "print('Number of NU particles = %d'%N_n)\n",
    "\n",
    "Omega_m_estimated = (N_c*mass_c + N_n*mass_n)/BoxSize**3/rho_crit\n",
    "Omega_c_estimated = (N_c*mass_c)/BoxSize**3/rho_crit\n",
    "Omega_n_estimated = (N_n*mass_n)/BoxSize**3/rho_crit\n",
    "print('Omega_cb = %.3f'%Omega_c_estimated)\n",
    "print('Omega_nu = %.3e'%Omega_n_estimated)\n",
    "print('Omega_m  = %.3f'%Omega_m_estimated)"
   ]
  },
  {
   "cell_type": "markdown",
   "metadata": {},
   "source": [
    "Now lets read the positions, velocities, and IDs of the dark matter and neutrino particles"
   ]
  },
  {
   "cell_type": "code",
   "execution_count": 14,
   "metadata": {},
   "outputs": [],
   "source": [
    "pos_c = readgadget.read_block(snapshot, \"POS \", [1])/1e3 #positions in Mpc/h\n",
    "vel_c = readgadget.read_block(snapshot, \"VEL \", [1])     #peculiar velocities in km/s\n",
    "ids_c = readgadget.read_block(snapshot, \"ID  \", [1])-1   #IDs starting from 0\n",
    "\n",
    "pos_n = readgadget.read_block(snapshot, \"POS \", [2])/1e3 #positions in Mpc/h\n",
    "vel_n = readgadget.read_block(snapshot, \"VEL \", [2])     #peculiar velocities in km/s\n",
    "ids_n = readgadget.read_block(snapshot, \"ID  \", [2])-1   #IDs starting from 0"
   ]
  },
  {
   "cell_type": "markdown",
   "metadata": {},
   "source": [
    "Lets make a plot with the distribution of the dark matter and neutrino velocities"
   ]
  },
  {
   "cell_type": "code",
   "execution_count": 15,
   "metadata": {},
   "outputs": [
    {
     "name": "stdout",
     "output_type": "stream",
     "text": [
      "0.811 < Vc < 4902.378\n",
      "13.396 < Vn < 60315.773\n"
     ]
    }
   ],
   "source": [
    "# lets compute the modulus of the dark matter and neutrino velocities\n",
    "Vc = np.sqrt(vel_c[:,0]**2 + vel_c[:,1]**2 + vel_c[:,2]**2)\n",
    "Vn = np.sqrt(vel_n[:,0]**2 + vel_n[:,1]**2 + vel_n[:,2]**2)\n",
    "print('%.3f < Vc < %.3f'%(np.min(Vc), np.max(Vc)))\n",
    "print('%.3f < Vn < %.3f'%(np.min(Vn), np.max(Vn)))\n",
    "\n",
    "bins_histo = np.logspace(0,5,1000)\n",
    "histo_Vc, edges = np.histogram(Vc, bins_histo)\n",
    "histo_Vn, edges = np.histogram(Vn, bins_histo)"
   ]
  },
  {
   "cell_type": "markdown",
   "metadata": {},
   "source": [
    "As can be seen, neutrinos have, on average, larger velocities than dark matter"
   ]
  },
  {
   "cell_type": "code",
   "execution_count": 16,
   "metadata": {},
   "outputs": [
    {
     "data": {
      "image/png": "[encoded data removed]",
      "text/plain": [
       "<Figure size 640x480 with 1 Axes>"
      ]
     },
     "metadata": {},
     "output_type": "display_data"
    }
   ],
   "source": [
    "import matplotlib.pyplot as plt\n",
    "plt.xscale('log')\n",
    "plt.yscale('log')\n",
    "plt.xlabel('V')\n",
    "plt.ylabel('Particle number')\n",
    "plt.plot(edges[1:], histo_Vc)\n",
    "plt.plot(edges[1:], histo_Vn)\n",
    "plt.legend(['Dark matter', 'Neutrinos'])\n",
    "plt.show()"
   ]
  }
 ],
 "metadata": {
  "kernelspec": {
   "display_name": "Python 3",
   "language": "python",
   "name": "python3"
  },
  "language_info": {
   "codemirror_mode": {
    "name": "ipython",
    "version": 3
   },
   "file_extension": ".py",
   "mimetype": "text/x-python",
   "name": "python",
   "nbconvert_exporter": "python",
   "pygments_lexer": "ipython3",
   "version": "3.7.6"
  }
 },
 "nbformat": 4,
 "nbformat_minor": 5
}
